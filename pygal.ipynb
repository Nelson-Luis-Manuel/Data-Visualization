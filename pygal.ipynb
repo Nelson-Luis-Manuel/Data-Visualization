{
 "cells": [
  {
   "cell_type": "code",
   "execution_count": 31,
   "metadata": {},
   "outputs": [
    {
     "name": "stdout",
     "output_type": "stream",
     "text": [
      "file://C:/Users/NELSON~1/AppData/Local/Temp/tmpxbsjgrpm.html\n",
      "file://C:/Users/NELSON~1/AppData/Local/Temp/tmpeolka7ne.html\n"
     ]
    }
   ],
   "source": [
    "\"\"\"\n",
    "Example of drawing line plots with Pygal.\n",
    "\"\"\"\n",
    "\n",
    "import pygal\n",
    "\n",
    "def draw_line(title, xvals, yvals):\n",
    "    \"\"\"\n",
    "    Draw line plot with given x and y values.\n",
    "    \"\"\"\n",
    "    lineplot = pygal.Line(height=400)\n",
    "    lineplot.title = title\n",
    "    lineplot.x_labels = xvals\n",
    "    lineplot.add(\"Data\", yvals)\n",
    "    lineplot.render_in_browser()\n",
    "\n",
    "xvals = [0, 1, 3, 5, 6, 7, 9, 11, 12, 15]\n",
    "yvals = [4, 3, 1, 2, 2, 4, 5, 2, 1, 4]\n",
    "\n",
    "draw_line(\"My Line Plot\", xvals, yvals)\n",
    "\n",
    "def draw_xy(title, xvals, yvals):\n",
    "    \"\"\"\n",
    "    Draw xy plot with given x and y values.\n",
    "    \"\"\"\n",
    "    coords = [(xval, yval) for xval, yval in zip(xvals, yvals)]\n",
    "    xyplot = pygal.XY(height=400)\n",
    "    xyplot.title = title\n",
    "    xyplot.add(\"Data\", coords)\n",
    "    xyplot.render_in_browser()\n",
    "\n",
    "draw_xy(\"My XY Plot\", xvals, yvals)"
   ]
  },
  {
   "cell_type": "code",
   "execution_count": null,
   "metadata": {},
   "outputs": [],
   "source": []
  }
 ],
 "metadata": {
  "kernelspec": {
   "display_name": "Python 3",
   "language": "python",
   "name": "python3"
  },
  "language_info": {
   "codemirror_mode": {
    "name": "ipython",
    "version": 3
   },
   "file_extension": ".py",
   "mimetype": "text/x-python",
   "name": "python",
   "nbconvert_exporter": "python",
   "pygments_lexer": "ipython3",
   "version": "3.8.6"
  }
 },
 "nbformat": 4,
 "nbformat_minor": 4
}
