{
 "cells": [
  {
   "cell_type": "code",
   "execution_count": 1,
   "metadata": {},
   "outputs": [
    {
     "name": "stdout",
     "output_type": "stream",
     "text": [
      "Set Literals\n",
      "============\n",
      "{1, 2, 3, 4}\n",
      "{'b', 'c', 'a'}\n",
      "{} <class 'dict'>\n",
      "set() <class 'set'>\n",
      "{1, 3, 5, 6}\n",
      "{0, 1, 2, 3, 4}\n",
      "\n",
      "Adding/Removing Elements\n",
      "========================\n",
      "{1, 3, 5, 6, 10}\n",
      "1\n",
      "{3, 5, 6, 10}\n",
      "{5, 6, 10}\n",
      "\n",
      "Set Iteration\n",
      "=============\n",
      "b\n",
      "c\n",
      "a\n"
     ]
    }
   ],
   "source": [
    "\"\"\"\n",
    "Using sets.\n",
    "\"\"\"\n",
    "\n",
    "print(\"Set Literals\")\n",
    "print(\"============\")\n",
    "\n",
    "numbers = {3, 2, 1, 4}\n",
    "print(numbers)\n",
    "\n",
    "letters = {\"a\", \"b\", \"a\", \"c\", \"b\"}\n",
    "print(letters)\n",
    "\n",
    "empty = {}\n",
    "print(empty, type(empty))\n",
    "\n",
    "empty2 = set()\n",
    "print(empty2, type(empty2))\n",
    "\n",
    "set1 = set([3, 1, 1, 3, 6, 5])\n",
    "print(set1)\n",
    "\n",
    "set2 = set(range(5))\n",
    "print(set2)\n",
    "\n",
    "print(\"\")\n",
    "print(\"Adding/Removing Elements\")\n",
    "print(\"========================\")\n",
    "\n",
    "set1.add(10)\n",
    "print(set1)\n",
    "\n",
    "element = set1.pop()\n",
    "print(element)\n",
    "print(set1)\n",
    "\n",
    "set1.discard(3)\n",
    "print(set1)\n",
    "\n",
    "print(\"\")\n",
    "print(\"Set Iteration\")\n",
    "print(\"=============\")\n",
    "\n",
    "for item in letters:\n",
    "    print(item)\n",
    "    "
   ]
  },
  {
   "cell_type": "code",
   "execution_count": null,
   "metadata": {},
   "outputs": [],
   "source": []
  }
 ],
 "metadata": {
  "kernelspec": {
   "display_name": "Python 3",
   "language": "python",
   "name": "python3"
  },
  "language_info": {
   "codemirror_mode": {
    "name": "ipython",
    "version": 3
   },
   "file_extension": ".py",
   "mimetype": "text/x-python",
   "name": "python",
   "nbconvert_exporter": "python",
   "pygments_lexer": "ipython3",
   "version": "3.8.6"
  }
 },
 "nbformat": 4,
 "nbformat_minor": 4
}
